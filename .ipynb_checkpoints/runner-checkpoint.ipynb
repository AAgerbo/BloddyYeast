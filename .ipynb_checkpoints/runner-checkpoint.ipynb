{
 "cells": [
  {
   "cell_type": "code",
   "execution_count": 12,
   "id": "3a74bc43-480f-45d8-bbb8-806c2a1df67e",
   "metadata": {},
   "outputs": [],
   "source": [
    "%run get_model.py"
   ]
  },
  {
   "cell_type": "code",
   "execution_count": 13,
   "id": "74b6fd48-bddc-4bbf-8d80-81be171c8bca",
   "metadata": {},
   "outputs": [],
   "source": [
    "%run get_reaction_targets.py"
   ]
  },
  {
   "cell_type": "code",
   "execution_count": null,
   "id": "07b5ada4-61c6-4d66-9e4f-1f859d4276da",
   "metadata": {},
   "outputs": [],
   "source": []
  }
 ],
 "metadata": {
  "kernelspec": {
   "display_name": "Python 3 (ipykernel)",
   "language": "python",
   "name": "python3"
  },
  "language_info": {
   "codemirror_mode": {
    "name": "ipython",
    "version": 3
   },
   "file_extension": ".py",
   "mimetype": "text/x-python",
   "name": "python",
   "nbconvert_exporter": "python",
   "pygments_lexer": "ipython3",
   "version": "3.7.11"
  }
 },
 "nbformat": 4,
 "nbformat_minor": 5
}
